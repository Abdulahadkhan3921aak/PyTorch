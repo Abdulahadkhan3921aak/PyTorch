{
 "cells": [
  {
   "cell_type": "code",
   "execution_count": 12,
   "metadata": {},
   "outputs": [],
   "source": [
    "import torch"
   ]
  },
  {
   "cell_type": "code",
   "execution_count": 13,
   "metadata": {},
   "outputs": [],
   "source": [
    "x = torch.tensor(1.0)\n",
    "y = torch.tensor(2.0)"
   ]
  },
  {
   "cell_type": "code",
   "execution_count": 14,
   "metadata": {},
   "outputs": [],
   "source": [
    "w = torch.tensor(1.0, requires_grad=True)"
   ]
  },
  {
   "cell_type": "code",
   "execution_count": 15,
   "metadata": {},
   "outputs": [],
   "source": [
    "y_hat = w * x"
   ]
  },
  {
   "cell_type": "code",
   "execution_count": 16,
   "metadata": {},
   "outputs": [],
   "source": [
    "loss = (y_hat - y) ** 2"
   ]
  },
  {
   "cell_type": "code",
   "execution_count": 17,
   "metadata": {},
   "outputs": [
    {
     "data": {
      "text/plain": [
       "tensor(1., grad_fn=<PowBackward0>)"
      ]
     },
     "execution_count": 17,
     "metadata": {},
     "output_type": "execute_result"
    }
   ],
   "source": [
    "loss"
   ]
  },
  {
   "cell_type": "code",
   "execution_count": 18,
   "metadata": {},
   "outputs": [],
   "source": [
    "loss.backward()"
   ]
  },
  {
   "cell_type": "code",
   "execution_count": 19,
   "metadata": {},
   "outputs": [
    {
     "data": {
      "text/plain": [
       "tensor(-2.)"
      ]
     },
     "execution_count": 19,
     "metadata": {},
     "output_type": "execute_result"
    }
   ],
   "source": [
    "w.grad"
   ]
  },
  {
   "cell_type": "code",
   "execution_count": 22,
   "metadata": {},
   "outputs": [
    {
     "name": "stdout",
     "output_type": "stream",
     "text": [
      "tensor(-0.0006)\n",
      "tensor(-0.0006)\n",
      "tensor(-0.0006)\n",
      "tensor(-0.0006)\n",
      "tensor(-0.0006)\n",
      "tensor(-0.0005)\n",
      "tensor(-0.0005)\n",
      "tensor(-0.0005)\n",
      "tensor(-0.0005)\n",
      "tensor(-0.0005)\n",
      "tensor(-0.0005)\n",
      "tensor(-0.0005)\n",
      "tensor(-0.0005)\n",
      "tensor(-0.0005)\n",
      "tensor(-0.0005)\n",
      "tensor(-0.0004)\n",
      "tensor(-0.0004)\n",
      "tensor(-0.0004)\n",
      "tensor(-0.0004)\n",
      "tensor(-0.0004)\n",
      "tensor(-0.0004)\n",
      "tensor(-0.0004)\n",
      "tensor(-0.0004)\n",
      "tensor(-0.0004)\n",
      "tensor(-0.0004)\n",
      "tensor(-0.0004)\n",
      "tensor(-0.0004)\n",
      "tensor(-0.0004)\n",
      "tensor(-0.0003)\n",
      "tensor(-0.0003)\n",
      "tensor(-0.0003)\n",
      "tensor(-0.0003)\n",
      "tensor(-0.0003)\n",
      "tensor(-0.0003)\n",
      "tensor(-0.0003)\n",
      "tensor(-0.0003)\n",
      "tensor(-0.0003)\n",
      "tensor(-0.0003)\n",
      "tensor(-0.0003)\n",
      "tensor(-0.0003)\n",
      "tensor(-0.0003)\n",
      "tensor(-0.0003)\n",
      "tensor(-0.0003)\n",
      "tensor(-0.0003)\n",
      "tensor(-0.0002)\n",
      "tensor(-0.0002)\n",
      "tensor(-0.0002)\n",
      "tensor(-0.0002)\n",
      "tensor(-0.0002)\n",
      "tensor(-0.0002)\n",
      "tensor(-0.0002)\n",
      "tensor(-0.0002)\n",
      "tensor(-0.0002)\n",
      "tensor(-0.0002)\n",
      "tensor(-0.0002)\n",
      "tensor(-0.0002)\n",
      "tensor(-0.0002)\n",
      "tensor(-0.0002)\n",
      "tensor(-0.0002)\n",
      "tensor(-0.0002)\n",
      "tensor(-0.0002)\n",
      "tensor(-0.0002)\n",
      "tensor(-0.0002)\n",
      "tensor(-0.0002)\n",
      "tensor(-0.0002)\n",
      "tensor(-0.0002)\n",
      "tensor(-0.0002)\n",
      "tensor(-0.0002)\n",
      "tensor(-0.0002)\n",
      "tensor(-0.0002)\n",
      "tensor(-0.0001)\n",
      "tensor(-0.0001)\n",
      "tensor(-0.0001)\n",
      "tensor(-0.0001)\n",
      "tensor(-0.0001)\n",
      "tensor(-0.0001)\n",
      "tensor(-0.0001)\n",
      "tensor(-0.0001)\n",
      "tensor(-0.0001)\n",
      "tensor(-0.0001)\n",
      "tensor(-0.0001)\n",
      "tensor(-0.0001)\n",
      "tensor(-0.0001)\n",
      "tensor(-0.0001)\n",
      "tensor(-0.0001)\n",
      "tensor(-0.0001)\n",
      "tensor(-0.0001)\n",
      "tensor(-0.0001)\n",
      "tensor(-0.0001)\n",
      "tensor(-0.0001)\n",
      "tensor(-9.8228e-05)\n",
      "tensor(-9.6321e-05)\n",
      "tensor(-9.4414e-05)\n",
      "tensor(-9.2506e-05)\n",
      "tensor(-9.0599e-05)\n",
      "tensor(-8.8692e-05)\n",
      "tensor(-8.7023e-05)\n",
      "tensor(-8.5354e-05)\n",
      "tensor(-8.3685e-05)\n",
      "tensor(-8.2016e-05)\n",
      "tensor(-8.0347e-05)\n",
      "tensor(-7.8678e-05)\n",
      "tensor(-7.7009e-05)\n",
      "tensor(-7.5579e-05)\n",
      "tensor(-7.4148e-05)\n",
      "tensor(-7.2718e-05)\n",
      "tensor(-7.1287e-05)\n",
      "tensor(-6.9857e-05)\n",
      "tensor(-6.8426e-05)\n",
      "tensor(-6.6996e-05)\n",
      "tensor(-6.5565e-05)\n",
      "tensor(-6.4373e-05)\n",
      "tensor(-6.3181e-05)\n",
      "tensor(-6.1989e-05)\n",
      "tensor(-6.0797e-05)\n",
      "tensor(-5.9605e-05)\n",
      "tensor(-5.8413e-05)\n",
      "tensor(-5.7220e-05)\n",
      "tensor(-5.6028e-05)\n",
      "tensor(-5.4836e-05)\n",
      "tensor(-5.3644e-05)\n",
      "tensor(-5.2452e-05)\n",
      "tensor(-5.1498e-05)\n",
      "tensor(-5.0545e-05)\n",
      "tensor(-4.9591e-05)\n",
      "tensor(-4.8637e-05)\n",
      "tensor(-4.7684e-05)\n",
      "tensor(-4.6730e-05)\n",
      "tensor(-4.5776e-05)\n",
      "tensor(-4.4823e-05)\n",
      "tensor(-4.3869e-05)\n",
      "tensor(-4.2915e-05)\n",
      "tensor(-4.1962e-05)\n",
      "tensor(-4.1008e-05)\n",
      "tensor(-4.0293e-05)\n",
      "tensor(-3.9577e-05)\n",
      "tensor(-3.8862e-05)\n",
      "tensor(-3.8147e-05)\n",
      "tensor(-3.7432e-05)\n",
      "tensor(-3.6716e-05)\n",
      "tensor(-3.6001e-05)\n",
      "tensor(-3.5286e-05)\n",
      "tensor(-3.4571e-05)\n",
      "tensor(-3.3855e-05)\n",
      "tensor(-3.3140e-05)\n",
      "tensor(-3.2425e-05)\n",
      "tensor(-3.1710e-05)\n",
      "tensor(-3.0994e-05)\n",
      "tensor(-3.0279e-05)\n",
      "tensor(-2.9564e-05)\n",
      "tensor(-2.9087e-05)\n",
      "tensor(-2.8610e-05)\n",
      "tensor(-2.8133e-05)\n",
      "tensor(-2.7657e-05)\n",
      "tensor(-2.7180e-05)\n",
      "tensor(-2.6703e-05)\n",
      "tensor(-2.6226e-05)\n",
      "tensor(-2.5749e-05)\n",
      "tensor(-2.5272e-05)\n",
      "tensor(-2.4796e-05)\n",
      "tensor(-2.4319e-05)\n",
      "tensor(-2.3842e-05)\n",
      "tensor(-2.3365e-05)\n",
      "tensor(-2.2888e-05)\n",
      "tensor(-2.2411e-05)\n",
      "tensor(-2.1935e-05)\n",
      "tensor(-2.1458e-05)\n",
      "tensor(-2.0981e-05)\n",
      "tensor(-2.0504e-05)\n",
      "tensor(-2.0027e-05)\n",
      "tensor(-1.9550e-05)\n",
      "tensor(-1.9073e-05)\n",
      "tensor(-1.8597e-05)\n",
      "tensor(-1.8120e-05)\n",
      "tensor(-1.7643e-05)\n",
      "tensor(-1.7405e-05)\n",
      "tensor(-1.7166e-05)\n",
      "tensor(-1.6928e-05)\n",
      "tensor(-1.6689e-05)\n",
      "tensor(-1.6451e-05)\n",
      "tensor(-1.6212e-05)\n",
      "tensor(-1.5974e-05)\n",
      "tensor(-1.5736e-05)\n",
      "tensor(-1.5497e-05)\n",
      "tensor(-1.5259e-05)\n",
      "tensor(-1.5020e-05)\n",
      "tensor(-1.4782e-05)\n",
      "tensor(-1.4544e-05)\n",
      "tensor(-1.4305e-05)\n",
      "tensor(-1.4067e-05)\n",
      "tensor(-1.3828e-05)\n",
      "tensor(-1.3590e-05)\n",
      "tensor(-1.3351e-05)\n",
      "tensor(-1.3113e-05)\n",
      "tensor(-1.2875e-05)\n",
      "tensor(-1.2636e-05)\n",
      "tensor(-1.2398e-05)\n",
      "tensor(-1.2159e-05)\n",
      "tensor(-1.1921e-05)\n",
      "tensor(-1.1683e-05)\n"
     ]
    }
   ],
   "source": [
    "for _ in range(200):\n",
    "    y_hat = w * x\n",
    "    loss = (y_hat - y) ** 2\n",
    "    loss.backward()\n",
    "\n",
    "    with torch.no_grad():\n",
    "        w -= 0.01 * w.grad  # Perform weight update in-place\n",
    "\n",
    "    print(w.grad)\n",
    "    w.grad.zero_()  # Clear gradients for the next iteration\n",
    "\n"
   ]
  }
 ],
 "metadata": {
  "kernelspec": {
   "display_name": "ML",
   "language": "python",
   "name": "python3"
  },
  "language_info": {
   "codemirror_mode": {
    "name": "ipython",
    "version": 3
   },
   "file_extension": ".py",
   "mimetype": "text/x-python",
   "name": "python",
   "nbconvert_exporter": "python",
   "pygments_lexer": "ipython3",
   "version": "3.11.8"
  }
 },
 "nbformat": 4,
 "nbformat_minor": 2
}
