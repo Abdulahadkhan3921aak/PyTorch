{
 "cells": [
  {
   "cell_type": "markdown",
   "metadata": {},
   "source": [
    "# (part 1)\n",
    "- `Prediction => Manual`\n",
    "- `Gradient => Manual`\n",
    "- `Loss Computation => Manual`\n",
    "- `Parameter Updates => Manual`"
   ]
  },
  {
   "cell_type": "code",
   "execution_count": 1,
   "metadata": {},
   "outputs": [],
   "source": [
    "import numpy as np"
   ]
  },
  {
   "cell_type": "code",
   "execution_count": 2,
   "metadata": {},
   "outputs": [],
   "source": [
    "X = np.array([1, 2, 3, 4], np.float32)\n",
    "Y = np.array(X * 2, np.float32)"
   ]
  },
  {
   "cell_type": "code",
   "execution_count": 3,
   "metadata": {},
   "outputs": [],
   "source": [
    "w = 0.0"
   ]
  },
  {
   "cell_type": "code",
   "execution_count": 4,
   "metadata": {},
   "outputs": [],
   "source": [
    "def forward(x):\n",
    "    return x * w"
   ]
  },
  {
   "cell_type": "code",
   "execution_count": 5,
   "metadata": {},
   "outputs": [],
   "source": [
    "def loss(y, y_pred):\n",
    "    return ((y_pred - y) ** 2).mean()"
   ]
  },
  {
   "cell_type": "code",
   "execution_count": 6,
   "metadata": {},
   "outputs": [],
   "source": [
    "def gradient(x, y, y_pred):\n",
    "    return np.dot(2*x, y_pred - y).mean()"
   ]
  },
  {
   "cell_type": "code",
   "execution_count": 7,
   "metadata": {},
   "outputs": [
    {
     "name": "stdout",
     "output_type": "stream",
     "text": [
      "Prediction before training: f(5) = 0.000\n"
     ]
    }
   ],
   "source": [
    "print(f'Prediction before training: f(5) = {forward(5):.3f}')"
   ]
  },
  {
   "cell_type": "code",
   "execution_count": 36,
   "metadata": {},
   "outputs": [],
   "source": [
    "learning_rate = 0.01\n",
    "n_iters = 20"
   ]
  },
  {
   "cell_type": "code",
   "execution_count": 11,
   "metadata": {},
   "outputs": [
    {
     "name": "stdout",
     "output_type": "stream",
     "text": [
      "epoch 1: w = 2.000, loss = 0.00000033\n",
      "epoch 2: w = 2.000, loss = 0.00000005\n",
      "epoch 3: w = 2.000, loss = 0.00000001\n",
      "epoch 4: w = 2.000, loss = 0.00000000\n",
      "epoch 5: w = 2.000, loss = 0.00000000\n",
      "epoch 6: w = 2.000, loss = 0.00000000\n",
      "epoch 7: w = 2.000, loss = 0.00000000\n",
      "epoch 8: w = 2.000, loss = 0.00000000\n",
      "epoch 9: w = 2.000, loss = 0.00000000\n",
      "epoch 10: w = 2.000, loss = 0.00000000\n"
     ]
    }
   ],
   "source": [
    "for epoch in range(n_iters):\n",
    "    y_pred = forward(X)\n",
    "    l = loss(Y, y_pred)\n",
    "    dw = gradient(X, Y, y_pred)\n",
    "    w -= learning_rate * dw\n",
    "    print(f'epoch {epoch+1}: w = {w:.3f}, loss = {l:.8f}')"
   ]
  },
  {
   "cell_type": "code",
   "execution_count": 12,
   "metadata": {},
   "outputs": [
    {
     "name": "stdout",
     "output_type": "stream",
     "text": [
      "Prediction after training: f(5) = 10.000\n"
     ]
    }
   ],
   "source": [
    "print(f'Prediction after training: f(5) = {forward(5):.3f}')"
   ]
  },
  {
   "cell_type": "markdown",
   "metadata": {},
   "source": [
    "# (Part 2)\n",
    "- `Prediction => Manual`\n",
    "- `Gradient => Autograd`\n",
    "- `Loss Computation => Manual`\n",
    "- `Parameter Updates => Manual`"
   ]
  },
  {
   "cell_type": "code",
   "execution_count": 29,
   "metadata": {},
   "outputs": [],
   "source": [
    "import torch"
   ]
  },
  {
   "cell_type": "code",
   "execution_count": 30,
   "metadata": {},
   "outputs": [
    {
     "name": "stderr",
     "output_type": "stream",
     "text": [
      "C:\\Users\\abdul\\AppData\\Local\\Temp\\ipykernel_2964\\511507477.py:2: UserWarning: To copy construct from a tensor, it is recommended to use sourceTensor.clone().detach() or sourceTensor.clone().detach().requires_grad_(True), rather than torch.tensor(sourceTensor).\n",
      "  Y = torch.tensor(X.clone().detach() * 2, dtype=torch.float32)\n"
     ]
    }
   ],
   "source": [
    "X = torch.tensor([1, 2, 3, 4], dtype=torch.float32)\n",
    "Y = torch.tensor(X.clone().detach() * 2, dtype=torch.float32)"
   ]
  },
  {
   "cell_type": "code",
   "execution_count": 31,
   "metadata": {},
   "outputs": [],
   "source": [
    "w = torch.tensor(0.0, dtype=torch.float32, requires_grad=True)"
   ]
  },
  {
   "cell_type": "code",
   "execution_count": 32,
   "metadata": {},
   "outputs": [],
   "source": [
    "def forward(x):\n",
    "    return x * w"
   ]
  },
  {
   "cell_type": "code",
   "execution_count": 33,
   "metadata": {},
   "outputs": [],
   "source": [
    "def loss(y, y_pred):\n",
    "    return ((y_pred - y) ** 2).mean()"
   ]
  },
  {
   "cell_type": "code",
   "execution_count": 34,
   "metadata": {},
   "outputs": [],
   "source": [
    "def gradient(x, y, y_pred):\n",
    "    return np.dot(2*x, y_pred - y).mean()"
   ]
  },
  {
   "cell_type": "markdown",
   "metadata": {},
   "source": [
    "# (Part 3) \n",
    "- `Prediction => Manual`\n",
    "- `Gradient => Autograd`\n",
    "- `Loss Computation => PyTorch Loss`\n",
    "- `Parameter Updates => PyTorch Optimizer`"
   ]
  },
  {
   "cell_type": "code",
   "execution_count": 35,
   "metadata": {},
   "outputs": [
    {
     "name": "stdout",
     "output_type": "stream",
     "text": [
      "Prediction before training: f(5) = 0.000\n"
     ]
    }
   ],
   "source": [
    "print(f'Prediction before training: f(5) = {forward(5):.3f}')"
   ]
  },
  {
   "cell_type": "code",
   "execution_count": 42,
   "metadata": {},
   "outputs": [],
   "source": [
    "learning_rate = 0.01\n",
    "n_iters = 60"
   ]
  },
  {
   "cell_type": "code",
   "execution_count": 43,
   "metadata": {},
   "outputs": [
    {
     "name": "stdout",
     "output_type": "stream",
     "text": [
      "epoch 1: w = 2.000, loss = 0.00000010\n",
      "epoch 2: w = 2.000, loss = 0.00000007\n",
      "epoch 3: w = 2.000, loss = 0.00000005\n",
      "epoch 4: w = 2.000, loss = 0.00000004\n",
      "epoch 5: w = 2.000, loss = 0.00000003\n",
      "epoch 6: w = 2.000, loss = 0.00000002\n",
      "epoch 7: w = 2.000, loss = 0.00000001\n",
      "epoch 8: w = 2.000, loss = 0.00000001\n",
      "epoch 9: w = 2.000, loss = 0.00000001\n",
      "epoch 10: w = 2.000, loss = 0.00000001\n",
      "epoch 11: w = 2.000, loss = 0.00000000\n",
      "epoch 12: w = 2.000, loss = 0.00000000\n",
      "epoch 13: w = 2.000, loss = 0.00000000\n",
      "epoch 14: w = 2.000, loss = 0.00000000\n",
      "epoch 15: w = 2.000, loss = 0.00000000\n",
      "epoch 16: w = 2.000, loss = 0.00000000\n",
      "epoch 17: w = 2.000, loss = 0.00000000\n",
      "epoch 18: w = 2.000, loss = 0.00000000\n",
      "epoch 19: w = 2.000, loss = 0.00000000\n",
      "epoch 20: w = 2.000, loss = 0.00000000\n",
      "epoch 21: w = 2.000, loss = 0.00000000\n",
      "epoch 22: w = 2.000, loss = 0.00000000\n",
      "epoch 23: w = 2.000, loss = 0.00000000\n",
      "epoch 24: w = 2.000, loss = 0.00000000\n",
      "epoch 25: w = 2.000, loss = 0.00000000\n",
      "epoch 26: w = 2.000, loss = 0.00000000\n",
      "epoch 27: w = 2.000, loss = 0.00000000\n",
      "epoch 28: w = 2.000, loss = 0.00000000\n",
      "epoch 29: w = 2.000, loss = 0.00000000\n",
      "epoch 30: w = 2.000, loss = 0.00000000\n",
      "epoch 31: w = 2.000, loss = 0.00000000\n",
      "epoch 32: w = 2.000, loss = 0.00000000\n",
      "epoch 33: w = 2.000, loss = 0.00000000\n",
      "epoch 34: w = 2.000, loss = 0.00000000\n",
      "epoch 35: w = 2.000, loss = 0.00000000\n",
      "epoch 36: w = 2.000, loss = 0.00000000\n",
      "epoch 37: w = 2.000, loss = 0.00000000\n",
      "epoch 38: w = 2.000, loss = 0.00000000\n",
      "epoch 39: w = 2.000, loss = 0.00000000\n",
      "epoch 40: w = 2.000, loss = 0.00000000\n",
      "epoch 41: w = 2.000, loss = 0.00000000\n",
      "epoch 42: w = 2.000, loss = 0.00000000\n",
      "epoch 43: w = 2.000, loss = 0.00000000\n",
      "epoch 44: w = 2.000, loss = 0.00000000\n",
      "epoch 45: w = 2.000, loss = 0.00000000\n",
      "epoch 46: w = 2.000, loss = 0.00000000\n",
      "epoch 47: w = 2.000, loss = 0.00000000\n",
      "epoch 48: w = 2.000, loss = 0.00000000\n",
      "epoch 49: w = 2.000, loss = 0.00000000\n",
      "epoch 50: w = 2.000, loss = 0.00000000\n",
      "epoch 51: w = 2.000, loss = 0.00000000\n",
      "epoch 52: w = 2.000, loss = 0.00000000\n",
      "epoch 53: w = 2.000, loss = 0.00000000\n",
      "epoch 54: w = 2.000, loss = 0.00000000\n",
      "epoch 55: w = 2.000, loss = 0.00000000\n",
      "epoch 56: w = 2.000, loss = 0.00000000\n",
      "epoch 57: w = 2.000, loss = 0.00000000\n",
      "epoch 58: w = 2.000, loss = 0.00000000\n",
      "epoch 59: w = 2.000, loss = 0.00000000\n",
      "epoch 60: w = 2.000, loss = 0.00000000\n"
     ]
    }
   ],
   "source": [
    "for epoch in range(n_iters):\n",
    "    y_pred = forward(X)\n",
    "    l = loss(Y, y_pred)\n",
    "    l.backward()\n",
    "    with torch.no_grad():\n",
    "        w -= learning_rate * w.grad\n",
    "    w.grad.zero_()\n",
    "    print(f'epoch {epoch+1}: w = {w:.3f}, loss = {l:.8f}')"
   ]
  },
  {
   "cell_type": "code",
   "execution_count": 44,
   "metadata": {},
   "outputs": [
    {
     "name": "stdout",
     "output_type": "stream",
     "text": [
      "Prediction after training: f(5) = 10.000\n"
     ]
    }
   ],
   "source": [
    "print(f'Prediction after training: f(5) = {forward(5):.3f}')"
   ]
  }
 ],
 "metadata": {
  "kernelspec": {
   "display_name": "Python 3",
   "language": "python",
   "name": "python3"
  },
  "language_info": {
   "codemirror_mode": {
    "name": "ipython",
    "version": 3
   },
   "file_extension": ".py",
   "mimetype": "text/x-python",
   "name": "python",
   "nbconvert_exporter": "python",
   "pygments_lexer": "ipython3",
   "version": "3.11.8"
  }
 },
 "nbformat": 4,
 "nbformat_minor": 2
}
